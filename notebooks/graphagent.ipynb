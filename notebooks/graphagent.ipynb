{
 "cells": [
  {
   "cell_type": "code",
   "execution_count": null,
   "metadata": {},
   "outputs": [],
   "source": [
    "!nuclia auth login"
   ]
  },
  {
   "cell_type": "code",
   "execution_count": null,
   "metadata": {},
   "outputs": [],
   "source": [
    "from nuclia import sdk\n",
    "from nuclia_models.worker.tasks import TaskName, ApplyOptions, DataAugmentation\n",
    "from nuclia_models.worker.proto import (\n",
    "GraphOperation,\n",
    "EntityDefinition,\n",
    "EntityExample,\n",
    "RelationExample,\n",
    "LLMConfig,\n",
    "Filter,\n",
    "ApplyTo,\n",
    "Operation,\n",
    ")"
   ]
  },
  {
   "cell_type": "code",
   "execution_count": null,
   "metadata": {},
   "outputs": [],
   "source": [
    "kb = sdk.NucliaKB()"
   ]
  },
  {
   "cell_type": "code",
   "execution_count": null,
   "metadata": {},
   "outputs": [],
   "source": [
    "entity_defs = [\n",
    "EntityDefinition(\n",
    "label=\"PLAINTIFF\",\n",
    "description=\"The person or entity that initiates a lawsuit\",\n",
    "),\n",
    "EntityDefinition(\n",
    "label=\"DEFENDANT\",\n",
    "description=\"The person or entity against whom a lawsuit is filed\",\n",
    "),\n",
    "EntityDefinition(\n",
    "label=\"CONTRACT\",\n",
    "description=\"A legally binding agreement between two or more parties\",\n",
    "),\n",
    "EntityDefinition(\n",
    "label=\"CLAUSE\", description=\"A specific provision or section of a contract\"\n",
    "),\n",
    "EntityDefinition(label=\"STATUTE\"),\n",
    "EntityDefinition(label=\"DATE\"),\n",
    "EntityDefinition(\n",
    "label=\"DEFENSE ATTORNEY\",\n",
    "description=\"The lawyer who represents the defendant in a lawsuit\",\n",
    "),\n",
    "EntityDefinition(\n",
    "label=\"JUDGE\", description=\"The presiding officer in a court of law\"\n",
    "),\n",
    "EntityDefinition(\n",
    "label=\"PLAINTIFF ATTORNEY\",\n",
    "description=\"The lawyer who represents the plaintiff in a lawsuit\",\n",
    "),\n",
    "EntityDefinition(label=\"COURT\"),\n",
    "]"
   ]
  },
  {
   "cell_type": "code",
   "execution_count": null,
   "metadata": {},
   "outputs": [],
   "source": [
    "entity_examples = [\n",
    "EntityExample(\n",
    "name=\"John Doe\",\n",
    "label=\"PLAINTIFF\",\n",
    "example=\"John Doe has filed a lawsuit against ABC Corporation for breach of contract.\",\n",
    "),\n",
    "EntityExample(\n",
    "name=\"ABC Corporation\",\n",
    "label=\"DEFENDANT\",\n",
    "example=\"John Doe has filed a lawsuit against ABC Corporation for breach of contract.\",\n",
    "),\n",
    "EntityExample(\n",
    "name=\"Service Agreement\",\n",
    "label=\"CONTRACT\",\n",
    "example=\"The Service Agreement contains a termination clause which allows either party to end the contract with 30 days notice.\",\n",
    "),\n",
    "]"
   ]
  },
  {
   "cell_type": "code",
   "execution_count": null,
   "metadata": {},
   "outputs": [],
   "source": [
    "relation_examples = [\n",
    "RelationExample(\n",
    "source=\"John Doe\",\n",
    "target=\"ABC Corporation\",\n",
    "label=\"Plaintiff sues Defendant\",\n",
    "example=\"John Doe has filed a lawsuit against ABC Corporation for breach of contract.\",\n",
    "),\n",
    "RelationExample(\n",
    "source=\"Service Agreement\",\n",
    "target=\"termination clause\",\n",
    "label=\"Contract contains Clause\",\n",
    "example=\"The Service Agreement contains a termination clause which allows either party to end the contract with 30 days notice.\",\n",
    "),\n",
    "RelationExample(\n",
    "source=\"Consumer Protection Act 2022\",\n",
    "target=\"Consumer Rights Act 2015\",\n",
    "label=\"Statute amends Previous Statute\",\n",
    "example=\"The Consumer Protection Act 2022 amends the Consumer Rights Act 2015, especially regarding digital goods.\",\n",
    "),\n",
    "]"
   ]
  },
  {
   "cell_type": "code",
   "execution_count": null,
   "metadata": {},
   "outputs": [],
   "source": [
    "graph = GraphOperation(\n",
    "ident=\"legal-graph-operation\",\n",
    "entity_defs=entity_defs,\n",
    "entity_examples=entity_examples,\n",
    "relation_examples=relation_examples,\n",
    ")   "
   ]
  },
  {
   "cell_type": "code",
   "execution_count": null,
   "metadata": {},
   "outputs": [],
   "source": [
    "response = kb.task.start(\n",
    "task_name=TaskName.LLM_GRAPH,\n",
    "apply=ApplyOptions.ALL,\n",
    "parameters=DataAugmentation(\n",
    "name=\"Generate Legal Graph\",\n",
    "on=ApplyTo.FIELD,\n",
    "operations=[Operation(graph=graph)],\n",
    "filter=Filter(contains=[], resource_type=[]),\n",
    "llm=LLMConfig(\n",
    "model=\"chatgpt4o-mini\",\n",
    "provider=\"openai\",\n",
    "),\n",
    "),\n",
    ")\n",
    "print(response)"
   ]
  },
  {
   "cell_type": "code",
   "execution_count": null,
   "metadata": {},
   "outputs": [],
   "source": [
    "task_id = response.id\n",
    "\n",
    "# Get all tasks\n",
    "task_list = kb.task.list()\n",
    "\n",
    "# Get tasks that are running on existing data\n",
    "running_tasks = kb.task.list().running\n",
    "\n",
    "# Get tasks that are configured to run on uploaded data\n",
    "config_tasks = kb.task.list().configs\n",
    "\n",
    "# Get tasks that are done running on existing data\n",
    "finished_tasks = kb.task.list().done\n",
    "\n",
    "# Check task status\n",
    "response = kb.task.get(task_id=task_id)\n",
    "\n",
    "# Stop a task\n",
    "response = kb.task.stop(task_id=task_id)\n",
    "\n",
    "# Resume a task\n",
    "response = kb.task.restart(task_id=task_id)\n",
    "\n",
    "# Delete a task\n",
    "response = kb.task.delete(task_id=task_id)"
   ]
  }
 ],
 "metadata": {
  "kernelspec": {
   "display_name": ".venv",
   "language": "python",
   "name": "python3"
  },
  "language_info": {
   "codemirror_mode": {
    "name": "ipython",
    "version": 3
   },
   "file_extension": ".py",
   "mimetype": "text/x-python",
   "name": "python",
   "nbconvert_exporter": "python",
   "pygments_lexer": "ipython3",
   "version": "3.10.6"
  }
 },
 "nbformat": 4,
 "nbformat_minor": 2
}
