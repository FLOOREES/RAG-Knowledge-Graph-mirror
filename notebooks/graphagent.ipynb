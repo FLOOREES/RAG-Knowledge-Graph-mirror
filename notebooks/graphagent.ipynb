{
 "cells": [
  {
   "cell_type": "code",
   "execution_count": null,
   "metadata": {},
   "outputs": [
    {
     "name": "stderr",
     "output_type": "stream",
     "text": [
      "c:\\Users\\aflon\\OneDrive\\Documentos\\GitHub\\RAG-Knowledge-Graph\\.venv\\lib\\site-packages\\pydantic\\_internal\\_fields.py:192: UserWarning: Field name \"json\" in \"AskOperation\" shadows an attribute in parent \"BaseModel\"\n",
      "  warnings.warn(\n"
     ]
    }
   ],
   "source": [
    "from nuclia import sdk\n",
    "from nuclia_models.worker.tasks import TaskName, ApplyOptions, DataAugmentation\n",
    "from nuclia_models.worker.proto import (\n",
    "\tGraphOperation,\n",
    "\tEntityDefinition,\n",
    "\tEntityExample,\n",
    "\tRelationExample,\n",
    "\tLLMConfig,\n",
    "\tFilter,\n",
    "\tApplyTo,\n",
    "\tOperation,\n",
    ")\n"
   ]
  },
  {
   "cell_type": "code",
   "execution_count": 2,
   "metadata": {},
   "outputs": [
    {
     "name": "stdout",
     "output_type": "stream",
     "text": [
      "\n",
      "User: Maximo Meya Morales <maximo.meya@estudiantat.upc.edu>\n",
      "Type: USER\n",
      "\n"
     ]
    },
    {
     "name": "stderr",
     "output_type": "stream",
     "text": [
      "c:\\Users\\aflon\\OneDrive\\Documentos\\GitHub\\RAG-Knowledge-Graph\\.venv\\lib\\site-packages\\pydantic\\_internal\\_fields.py:192: UserWarning: Field name \"json\" in \"AskOperation\" shadows an attribute in parent \"BaseModel\"\n",
      "  warnings.warn(\n",
      "Logged in!\n"
     ]
    }
   ],
   "source": [
    "!nuclia auth login"
   ]
  },
  {
   "cell_type": "code",
   "execution_count": 3,
   "metadata": {},
   "outputs": [],
   "source": [
    "kb = sdk.NucliaKB()"
   ]
  },
  {
   "cell_type": "code",
   "execution_count": 4,
   "metadata": {},
   "outputs": [],
   "source": [
    "entity_defs = [\n",
    "EntityDefinition(\n",
    "label=\"PLAINTIFF\",\n",
    "description=\"The person or entity that initiates a lawsuit\",\n",
    "),\n",
    "EntityDefinition(\n",
    "label=\"DEFENDANT\",\n",
    "description=\"The person or entity against whom a lawsuit is filed\",\n",
    "),\n",
    "EntityDefinition(\n",
    "label=\"CONTRACT\",\n",
    "description=\"A legally binding agreement between two or more parties\",\n",
    "),\n",
    "EntityDefinition(\n",
    "label=\"CLAUSE\", description=\"A specific provision or section of a contract\"\n",
    "),\n",
    "EntityDefinition(label=\"STATUTE\"),\n",
    "EntityDefinition(label=\"DATE\"),\n",
    "EntityDefinition(\n",
    "label=\"DEFENSE ATTORNEY\",\n",
    "description=\"The lawyer who represents the defendant in a lawsuit\",\n",
    "),\n",
    "EntityDefinition(\n",
    "label=\"JUDGE\", description=\"The presiding officer in a court of law\"\n",
    "),\n",
    "EntityDefinition(\n",
    "label=\"PLAINTIFF ATTORNEY\",\n",
    "description=\"The lawyer who represents the plaintiff in a lawsuit\",\n",
    "),\n",
    "EntityDefinition(label=\"COURT\"),\n",
    "]"
   ]
  },
  {
   "cell_type": "code",
   "execution_count": 5,
   "metadata": {},
   "outputs": [],
   "source": [
    "entity_examples = [\n",
    "EntityExample(\n",
    "name=\"John Doe\",\n",
    "label=\"PLAINTIFF\",\n",
    "example=\"John Doe has filed a lawsuit against ABC Corporation for breach of contract.\",\n",
    "),\n",
    "EntityExample(\n",
    "name=\"ABC Corporation\",\n",
    "label=\"DEFENDANT\",\n",
    "example=\"John Doe has filed a lawsuit against ABC Corporation for breach of contract.\",\n",
    "),\n",
    "EntityExample(\n",
    "name=\"Service Agreement\",\n",
    "label=\"CONTRACT\",\n",
    "example=\"The Service Agreement contains a termination clause which allows either party to end the contract with 30 days notice.\",\n",
    "),\n",
    "]"
   ]
  },
  {
   "cell_type": "code",
   "execution_count": 6,
   "metadata": {},
   "outputs": [],
   "source": [
    "relation_examples = [\n",
    "RelationExample(\n",
    "source=\"John Doe\",\n",
    "target=\"ABC Corporation\",\n",
    "label=\"Plaintiff sues Defendant\",\n",
    "example=\"John Doe has filed a lawsuit against ABC Corporation for breach of contract.\",\n",
    "),\n",
    "RelationExample(\n",
    "source=\"Service Agreement\",\n",
    "target=\"termination clause\",\n",
    "label=\"Contract contains Clause\",\n",
    "example=\"The Service Agreement contains a termination clause which allows either party to end the contract with 30 days notice.\",\n",
    "),\n",
    "RelationExample(\n",
    "source=\"Consumer Protection Act 2022\",\n",
    "target=\"Consumer Rights Act 2015\",\n",
    "label=\"Statute amends Previous Statute\",\n",
    "example=\"The Consumer Protection Act 2022 amends the Consumer Rights Act 2015, especially regarding digital goods.\",\n",
    "),\n",
    "]"
   ]
  },
  {
   "cell_type": "code",
   "execution_count": 7,
   "metadata": {},
   "outputs": [],
   "source": [
    "graph = GraphOperation(\n",
    "ident=\"legal-graph-operation\",\n",
    "entity_defs=entity_defs,\n",
    "entity_examples=entity_examples,\n",
    "relation_examples=relation_examples,\n",
    ")   "
   ]
  },
  {
   "cell_type": "code",
   "execution_count": 8,
   "metadata": {},
   "outputs": [
    {
     "ename": "InvalidPayload",
     "evalue": "Invalid payload: {\"detail\":\"Already running an operation of type `graph` with ident `legal-graph-operation`\"}",
     "output_type": "error",
     "traceback": [
      "\u001b[1;31m---------------------------------------------------------------------------\u001b[0m",
      "\u001b[1;31mInvalidPayload\u001b[0m                            Traceback (most recent call last)",
      "Cell \u001b[1;32mIn[8], line 1\u001b[0m\n\u001b[1;32m----> 1\u001b[0m response \u001b[38;5;241m=\u001b[39m \u001b[43mkb\u001b[49m\u001b[38;5;241;43m.\u001b[39;49m\u001b[43mtask\u001b[49m\u001b[38;5;241;43m.\u001b[39;49m\u001b[43mstart\u001b[49m\u001b[43m(\u001b[49m\n\u001b[0;32m      2\u001b[0m \u001b[43mtask_name\u001b[49m\u001b[38;5;241;43m=\u001b[39;49m\u001b[43mTaskName\u001b[49m\u001b[38;5;241;43m.\u001b[39;49m\u001b[43mLLM_GRAPH\u001b[49m\u001b[43m,\u001b[49m\n\u001b[0;32m      3\u001b[0m \u001b[43mapply\u001b[49m\u001b[38;5;241;43m=\u001b[39;49m\u001b[43mApplyOptions\u001b[49m\u001b[38;5;241;43m.\u001b[39;49m\u001b[43mALL\u001b[49m\u001b[43m,\u001b[49m\n\u001b[0;32m      4\u001b[0m \u001b[43mparameters\u001b[49m\u001b[38;5;241;43m=\u001b[39;49m\u001b[43mDataAugmentation\u001b[49m\u001b[43m(\u001b[49m\n\u001b[0;32m      5\u001b[0m \u001b[43mname\u001b[49m\u001b[38;5;241;43m=\u001b[39;49m\u001b[38;5;124;43m\"\u001b[39;49m\u001b[38;5;124;43mGenerate Legal Graph\u001b[39;49m\u001b[38;5;124;43m\"\u001b[39;49m\u001b[43m,\u001b[49m\n\u001b[0;32m      6\u001b[0m \u001b[43mon\u001b[49m\u001b[38;5;241;43m=\u001b[39;49m\u001b[43mApplyTo\u001b[49m\u001b[38;5;241;43m.\u001b[39;49m\u001b[43mFIELD\u001b[49m\u001b[43m,\u001b[49m\n\u001b[0;32m      7\u001b[0m \u001b[43moperations\u001b[49m\u001b[38;5;241;43m=\u001b[39;49m\u001b[43m[\u001b[49m\u001b[43mOperation\u001b[49m\u001b[43m(\u001b[49m\u001b[43mgraph\u001b[49m\u001b[38;5;241;43m=\u001b[39;49m\u001b[43mgraph\u001b[49m\u001b[43m)\u001b[49m\u001b[43m]\u001b[49m\u001b[43m,\u001b[49m\n\u001b[0;32m      8\u001b[0m \u001b[38;5;28;43mfilter\u001b[39;49m\u001b[38;5;241;43m=\u001b[39;49m\u001b[43mFilter\u001b[49m\u001b[43m(\u001b[49m\u001b[43mcontains\u001b[49m\u001b[38;5;241;43m=\u001b[39;49m\u001b[43m[\u001b[49m\u001b[43m]\u001b[49m\u001b[43m,\u001b[49m\u001b[43m \u001b[49m\u001b[43mresource_type\u001b[49m\u001b[38;5;241;43m=\u001b[39;49m\u001b[43m[\u001b[49m\u001b[43m]\u001b[49m\u001b[43m)\u001b[49m\u001b[43m,\u001b[49m\n\u001b[0;32m      9\u001b[0m \u001b[43mllm\u001b[49m\u001b[38;5;241;43m=\u001b[39;49m\u001b[43mLLMConfig\u001b[49m\u001b[43m(\u001b[49m\n\u001b[0;32m     10\u001b[0m \u001b[43mmodel\u001b[49m\u001b[38;5;241;43m=\u001b[39;49m\u001b[38;5;124;43m\"\u001b[39;49m\u001b[38;5;124;43mchatgpt4o-mini\u001b[39;49m\u001b[38;5;124;43m\"\u001b[39;49m\u001b[43m,\u001b[49m\n\u001b[0;32m     11\u001b[0m \u001b[43mprovider\u001b[49m\u001b[38;5;241;43m=\u001b[39;49m\u001b[38;5;124;43m\"\u001b[39;49m\u001b[38;5;124;43mopenai\u001b[39;49m\u001b[38;5;124;43m\"\u001b[39;49m\u001b[43m,\u001b[49m\n\u001b[0;32m     12\u001b[0m \u001b[43m)\u001b[49m\u001b[43m,\u001b[49m\n\u001b[0;32m     13\u001b[0m \u001b[43m)\u001b[49m\u001b[43m,\u001b[49m\n\u001b[0;32m     14\u001b[0m \u001b[43m)\u001b[49m\n\u001b[0;32m     15\u001b[0m \u001b[38;5;28mprint\u001b[39m(response)\n",
      "File \u001b[1;32mc:\\Users\\aflon\\OneDrive\\Documentos\\GitHub\\RAG-Knowledge-Graph\\.venv\\lib\\site-packages\\nuclia\\decorators.py:101\u001b[0m, in \u001b[0;36mkb.<locals>.wrapper_checkout\u001b[1;34m(*args, **kwargs)\u001b[0m\n\u001b[0;32m     99\u001b[0m kwargs[\u001b[38;5;124m\"\u001b[39m\u001b[38;5;124mndb\u001b[39m\u001b[38;5;124m\"\u001b[39m] \u001b[38;5;241m=\u001b[39m ndb\n\u001b[0;32m    100\u001b[0m \u001b[38;5;28;01mtry\u001b[39;00m:\n\u001b[1;32m--> 101\u001b[0m     result \u001b[38;5;241m=\u001b[39m func(\u001b[38;5;241m*\u001b[39margs, \u001b[38;5;241m*\u001b[39m\u001b[38;5;241m*\u001b[39mkwargs)\n\u001b[0;32m    102\u001b[0m     \u001b[38;5;28;01mreturn\u001b[39;00m result\n\u001b[0;32m    103\u001b[0m \u001b[38;5;28;01mexcept\u001b[39;00m ConnectError:\n",
      "File \u001b[1;32mc:\\Users\\aflon\\OneDrive\\Documentos\\GitHub\\RAG-Knowledge-Graph\\.venv\\lib\\site-packages\\nuclia\\sdk\\task.py:61\u001b[0m, in \u001b[0;36mNucliaTask.start\u001b[1;34m(self, task_name, apply, parameters, *args, **kwargs)\u001b[0m\n\u001b[0;32m     58\u001b[0m     parameters \u001b[38;5;241m=\u001b[39m parameters_model\u001b[38;5;241m.\u001b[39mmodel_validate(parameters)\n\u001b[0;32m     60\u001b[0m ndb: NucliaDBClient \u001b[38;5;241m=\u001b[39m kwargs[\u001b[38;5;124m\"\u001b[39m\u001b[38;5;124mndb\u001b[39m\u001b[38;5;124m\"\u001b[39m]\n\u001b[1;32m---> 61\u001b[0m response \u001b[38;5;241m=\u001b[39m \u001b[43mndb\u001b[49m\u001b[38;5;241;43m.\u001b[39;49m\u001b[43mstart_task\u001b[49m\u001b[43m(\u001b[49m\n\u001b[0;32m     62\u001b[0m \u001b[43m    \u001b[49m\u001b[43mbody\u001b[49m\u001b[38;5;241;43m=\u001b[39;49m\u001b[43mTaskStartKB\u001b[49m\u001b[43m(\u001b[49m\u001b[43mname\u001b[49m\u001b[38;5;241;43m=\u001b[39;49m\u001b[43mtask_name\u001b[49m\u001b[43m,\u001b[49m\u001b[43m \u001b[49m\u001b[43mparameters\u001b[49m\u001b[38;5;241;43m=\u001b[39;49m\u001b[43mparameters\u001b[49m\u001b[43m,\u001b[49m\u001b[43m \u001b[49m\u001b[43mapply\u001b[49m\u001b[38;5;241;43m=\u001b[39;49m\u001b[43mapply\u001b[49m\u001b[43m)\u001b[49m\n\u001b[0;32m     63\u001b[0m \u001b[43m\u001b[49m\u001b[43m)\u001b[49m\n\u001b[0;32m     64\u001b[0m \u001b[38;5;28;01mreturn\u001b[39;00m TaskResponse\u001b[38;5;241m.\u001b[39mmodel_validate(response\u001b[38;5;241m.\u001b[39mjson())\n",
      "File \u001b[1;32mc:\\Users\\aflon\\OneDrive\\Documentos\\GitHub\\RAG-Knowledge-Graph\\.venv\\lib\\site-packages\\nuclia\\lib\\kb.py:490\u001b[0m, in \u001b[0;36mNucliaDBClient.start_task\u001b[1;34m(self, body)\u001b[0m\n\u001b[0;32m    484\u001b[0m     \u001b[38;5;28;01mraise\u001b[39;00m \u001b[38;5;167;01mException\u001b[39;00m(\u001b[38;5;124m\"\u001b[39m\u001b[38;5;124mKB not configured\u001b[39m\u001b[38;5;124m\"\u001b[39m)\n\u001b[0;32m    486\u001b[0m response: httpx\u001b[38;5;241m.\u001b[39mResponse \u001b[38;5;241m=\u001b[39m \u001b[38;5;28mself\u001b[39m\u001b[38;5;241m.\u001b[39mwriter_session\u001b[38;5;241m.\u001b[39mpost(\n\u001b[0;32m    487\u001b[0m     \u001b[38;5;124mf\u001b[39m\u001b[38;5;124m\"\u001b[39m\u001b[38;5;132;01m{\u001b[39;00m\u001b[38;5;28mself\u001b[39m\u001b[38;5;241m.\u001b[39murl\u001b[38;5;132;01m}\u001b[39;00m\u001b[38;5;132;01m{\u001b[39;00mSTART_TASK\u001b[38;5;132;01m}\u001b[39;00m\u001b[38;5;124m\"\u001b[39m,\n\u001b[0;32m    488\u001b[0m     json\u001b[38;5;241m=\u001b[39mbody\u001b[38;5;241m.\u001b[39mmodel_dump(mode\u001b[38;5;241m=\u001b[39m\u001b[38;5;124m\"\u001b[39m\u001b[38;5;124mjson\u001b[39m\u001b[38;5;124m\"\u001b[39m, exclude_unset\u001b[38;5;241m=\u001b[39m\u001b[38;5;28;01mTrue\u001b[39;00m),\n\u001b[0;32m    489\u001b[0m )\n\u001b[1;32m--> 490\u001b[0m \u001b[43mhandle_http_errors\u001b[49m\u001b[43m(\u001b[49m\u001b[43mresponse\u001b[49m\u001b[43m)\u001b[49m\n\u001b[0;32m    491\u001b[0m \u001b[38;5;28;01mreturn\u001b[39;00m response\n",
      "File \u001b[1;32mc:\\Users\\aflon\\OneDrive\\Documentos\\GitHub\\RAG-Knowledge-Graph\\.venv\\lib\\site-packages\\nuclia\\lib\\utils.py:32\u001b[0m, in \u001b[0;36mhandle_http_errors\u001b[1;34m(response)\u001b[0m\n\u001b[0;32m     30\u001b[0m     \u001b[38;5;28;01mraise\u001b[39;00m DuplicateError(\u001b[38;5;124mf\u001b[39m\u001b[38;5;124m\"\u001b[39m\u001b[38;5;124mDuplicate resource: \u001b[39m\u001b[38;5;132;01m{\u001b[39;00mresponse\u001b[38;5;241m.\u001b[39mtext\u001b[38;5;132;01m}\u001b[39;00m\u001b[38;5;124m\"\u001b[39m)\n\u001b[0;32m     31\u001b[0m \u001b[38;5;28;01melif\u001b[39;00m response\u001b[38;5;241m.\u001b[39mstatus_code \u001b[38;5;241m==\u001b[39m \u001b[38;5;241m422\u001b[39m:\n\u001b[1;32m---> 32\u001b[0m     \u001b[38;5;28;01mraise\u001b[39;00m InvalidPayload(\u001b[38;5;124mf\u001b[39m\u001b[38;5;124m\"\u001b[39m\u001b[38;5;124mInvalid payload: \u001b[39m\u001b[38;5;132;01m{\u001b[39;00mresponse\u001b[38;5;241m.\u001b[39mtext\u001b[38;5;132;01m}\u001b[39;00m\u001b[38;5;124m\"\u001b[39m)\n\u001b[0;32m     33\u001b[0m \u001b[38;5;28;01melif\u001b[39;00m response\u001b[38;5;241m.\u001b[39mstatus_code \u001b[38;5;241m>\u001b[39m\u001b[38;5;241m=\u001b[39m \u001b[38;5;241m400\u001b[39m:\n\u001b[0;32m     34\u001b[0m     \u001b[38;5;28;01mraise\u001b[39;00m httpx\u001b[38;5;241m.\u001b[39mHTTPError(\u001b[38;5;124mf\u001b[39m\u001b[38;5;124m\"\u001b[39m\u001b[38;5;124mStatus code \u001b[39m\u001b[38;5;132;01m{\u001b[39;00mresponse\u001b[38;5;241m.\u001b[39mstatus_code\u001b[38;5;132;01m}\u001b[39;00m\u001b[38;5;124m: \u001b[39m\u001b[38;5;132;01m{\u001b[39;00mresponse\u001b[38;5;241m.\u001b[39mtext\u001b[38;5;132;01m}\u001b[39;00m\u001b[38;5;124m\"\u001b[39m)\n",
      "\u001b[1;31mInvalidPayload\u001b[0m: Invalid payload: {\"detail\":\"Already running an operation of type `graph` with ident `legal-graph-operation`\"}"
     ]
    }
   ],
   "source": [
    "response = kb.task.start(\n",
    "task_name=TaskName.LLM_GRAPH,\n",
    "apply=ApplyOptions.ALL,\n",
    "parameters=DataAugmentation(\n",
    "name=\"Generate Legal Graph\",\n",
    "on=ApplyTo.FIELD,\n",
    "operations=[Operation(graph=graph)],\n",
    "filter=Filter(contains=[], resource_type=[]),\n",
    "llm=LLMConfig(\n",
    "model=\"chatgpt4o-mini\",\n",
    "provider=\"openai\",\n",
    "),\n",
    "),\n",
    ")\n",
    "print(response)"
   ]
  },
  {
   "cell_type": "code",
   "execution_count": null,
   "metadata": {},
   "outputs": [],
   "source": [
    "task_id = response.id\n",
    "\n",
    "# Get all tasks\n",
    "task_list = kb.task.list()\n",
    "\n",
    "# Get tasks that are running on existing data\n",
    "running_tasks = kb.task.list().running\n",
    "\n",
    "# Get tasks that are configured to run on uploaded data\n",
    "config_tasks = kb.task.list().configs\n",
    "\n",
    "# Get tasks that are done running on existing data\n",
    "finished_tasks = kb.task.list().done\n",
    "\n",
    "# Check task status\n",
    "response = kb.task.get(task_id=task_id)\n",
    "\n",
    "# Stop a task\n",
    "response = kb.task.stop(task_id=task_id)\n",
    "\n",
    "# Resume a task\n",
    "response = kb.task.restart(task_id=task_id)\n",
    "\n",
    "# Delete a task\n",
    "response = kb.task.delete(task_id=task_id)"
   ]
  }
 ],
 "metadata": {
  "kernelspec": {
   "display_name": ".venv",
   "language": "python",
   "name": "python3"
  },
  "language_info": {
   "codemirror_mode": {
    "name": "ipython",
    "version": 3
   },
   "file_extension": ".py",
   "mimetype": "text/x-python",
   "name": "python",
   "nbconvert_exporter": "python",
   "pygments_lexer": "ipython3",
   "version": "3.10.6"
  }
 },
 "nbformat": 4,
 "nbformat_minor": 2
}
